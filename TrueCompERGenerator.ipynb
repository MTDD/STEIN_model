{
 "cells": [
  {
   "cell_type": "markdown",
   "metadata": {},
   "source": [
    "## Generate Rockfall Matrix for True Erosion Rates\n",
    "<br>\n",
    "  \n",
    "#### Syntax\n",
    "`TrueParsPars = TrueCompERGenerator(RunTruePars,RunPars,CalcPars)` <br>\n",
    "#### Input \n",
    "`RunTruePars` : dictionary containing parameters for constant erosion under the \"true\" erosion rate. <br>\n",
    "##### Variables\n",
    "`scenarios` : number of scenarios for the erosion rate/shape value; <br>\n",
    "`total_time` : total time in the model run <br>\n",
    "`MeasPars` : dictionary of size 9 with the information relevant to the run. <br>\n",
    "#### Output\n",
    "`RunTruePars` : dictionary containing the RunParameters for the true erosion rate runs <br>\n",
    "##### Variables\n",
    "`RockfallMatrix` : rockfall matrix with the true uniform erosion rate each year (cm) <br>\n",
    "`TrueErosionRates` : output of the true erosion rates (L/T) (cm yr-1); <br>\n",
    "#### Notes\n",
    "**Date of Creation:** 5. Juli 2021 <br>\n",
    "**Author:** Donovan Dennis <br>\n",
    "**Update:** <br>"
   ]
  },
  {
   "cell_type": "code",
   "execution_count": 7,
   "metadata": {
    "code_folding": [
     0
    ]
   },
   "outputs": [],
   "source": [
    "def TrueCompERGenerator(RunTruePars,RunPars,CalcPars):    \n",
    "    \n",
    "    # bring in the relevant parameters\n",
    "    TrueERs = RunPars['TrueErosionRates']\n",
    "    scenarios = RunTruePars['scenarios']\n",
    "    total_time = RunTruePars['total_time']\n",
    "    \n",
    "    # open up a matrix for the annual erosion magnitudes\n",
    "    TrueCompRockfallMatrix = np.empty((scenarios, total_time))    \n",
    "    \n",
    "    ErosionRates = [0]*scenarios\n",
    "    # loop through the set the eroded amount every year to the respective measured erosion rate\n",
    "    for i in range(scenarios):\n",
    "        TrueCompRockfallMatrix[i,:] = TrueERs[i]\n",
    "        ErosionRates[i] = np.sum(TrueCompRockfallMatrix[i,:]) / total_time\n",
    "\n",
    "    # assign to the parameters dictionary\n",
    "    RunTruePars['RockfallMatrix'] = TrueCompRockfallMatrix \n",
    "    RunTruePars['TrueErosionRates'] = TrueERs\n",
    "    \n",
    "    return RunTruePars"
   ]
  }
 ],
 "metadata": {
  "kernelspec": {
   "display_name": "Python 3",
   "language": "python",
   "name": "python3"
  },
  "language_info": {
   "codemirror_mode": {
    "name": "ipython",
    "version": 3
   },
   "file_extension": ".py",
   "mimetype": "text/x-python",
   "name": "python",
   "nbconvert_exporter": "python",
   "pygments_lexer": "ipython3",
   "version": "3.9.5"
  }
 },
 "nbformat": 4,
 "nbformat_minor": 2
}
