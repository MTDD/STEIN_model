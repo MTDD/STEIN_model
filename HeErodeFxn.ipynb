{
 "cells": [
  {
   "cell_type": "markdown",
   "id": "02f173b6",
   "metadata": {},
   "source": [
    "## Erode the surface during He-3 production/diffusion\n",
    "<br>\n",
    "  \n",
    "#### Syntax\n",
    "`conc3He = HeErodeFxn(conc0, erode_z, CosmoPars, HeliumPars)` <br>\n",
    "#### Input \n",
    "`conc0` : concentration at the beginning of the \"year\" (at g-1) <br>\n",
    "`erode_z` : depth to be eroded (cm) <br>\n",
    "`CosmoPars` : dictionary of parameters relevant for CRN calculations <br>\n",
    "`HeliumPars` : dictionary of parameters relevant for He-3 calculations <br>\n",
    "#### Variables Used\n",
    "##### Helium Pars\n",
    "`Hez` : vector of He node depths, size length(max_depths[0]) (cm) <br>\n",
    "`EDTz` : vector of EDTs at the Hez node depths (K) <br>\n",
    "`nx` : number of nodes in the quartz grains <br>\n",
    "##### Cosmo Pars    \n",
    "`mu` : mu production term <br>\n",
    "`SLHL_He3` : sea level high latitude He-3 spallation production rate (at g-1 yr-1) <br>\n",
    "#### Output\n",
    "##### Calc Pars\n",
    "`conc3He` : matrix size Hez, nx with concentration of 3He at depth and in each quartz grain <br>\n",
    "#### Notes\n",
    "**Date of Creation:** 7. Juli 2021 <br>\n",
    "**Author:** Donovan Dennis <br>\n",
    "**Update:** <br>"
   ]
  },
  {
   "cell_type": "code",
   "execution_count": 4,
   "id": "22f8353d",
   "metadata": {},
   "outputs": [],
   "source": [
    "def HeErodeFxn(conc0, erode_z, CosmoPars, HeliumPars):\n",
    "    Hez = HeliumPars['Hez']\n",
    "    EDTz = HeliumPars['EDTz']\n",
    "    nx = HeliumPars['nx']\n",
    "    \n",
    "    mu = CosmoPars['mu']\n",
    "    SLHL_He3 = CosmoPars['SLHL_He3']\n",
    "    \n",
    "    old_depths = Hez[Hez > erode_z]\n",
    "    He3P0 = SLHL_He3 * np.exp(-mu * Hez)\n",
    "\n",
    "    conc0 = [ProdDiffHe3Fxn(conc0[i], He3P0[i], EDTz[i], HeliumPars) for i in range(len(Hez))] \n",
    "    \n",
    "    interpx = range(0,nx)\n",
    "    first_fxn = interp2d(x = interpx, \n",
    "                         y = Hez, \n",
    "                         z = np.stack(conc0), \n",
    "                         kind = 'linear')    \n",
    "    \n",
    "    first_data = first_fxn(x = interpx, y = Hez)\n",
    "    \n",
    "    second_fxn = interp2d(x = interpx, \n",
    "                          y = (Hez - erode_z), \n",
    "                          z = np.stack(first_data), \n",
    "                          kind = 'linear') \n",
    "    \n",
    "    conc3He = second_fxn(x = interpx, y = Hez)\n",
    "    \n",
    "    return conc3He"
   ]
  }
 ],
 "metadata": {
  "kernelspec": {
   "display_name": "Python 3",
   "language": "python",
   "name": "python3"
  },
  "language_info": {
   "codemirror_mode": {
    "name": "ipython",
    "version": 3
   },
   "file_extension": ".py",
   "mimetype": "text/x-python",
   "name": "python",
   "nbconvert_exporter": "python",
   "pygments_lexer": "ipython3",
   "version": "3.9.5"
  }
 },
 "nbformat": 4,
 "nbformat_minor": 5
}
