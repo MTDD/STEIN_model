{
 "cells": [
  {
   "cell_type": "markdown",
   "metadata": {},
   "source": [
    "## Generate Constant Erosion Rockfall Matrix\n",
    "<br>\n",
    "  \n",
    "#### Syntax\n",
    "`RunPars = ConstantERGenerator` <br>\n",
    "#### Input \n",
    "`RunPars` : dictionary containing the run parameters <br>\n",
    "##### Variables\n",
    "`erosion_rate` : the given erosion rate (cm yr-1) <br>\n",
    "`total_time` : total time in the runs (yrs) <br>\n",
    "#### Output\n",
    "`RunPars` : dictionary containing run parameters now including the rockfall matrix<br>\n",
    "##### Variables\n",
    "`RockfallMatrix` : rockfall matrix with the input erosion depth each occurring every year (cm) <br>\n",
    "#### Notes\n",
    "**Date of Creation:** 7. Juli 2021 <br>\n",
    "**Author:** Donovan Dennis <br>\n",
    "**Update:** <br>"
   ]
  },
  {
   "cell_type": "code",
   "execution_count": 1,
   "metadata": {
    "code_folding": [
     0
    ]
   },
   "outputs": [],
   "source": [
    "def EpisodicGenerator(RunPars):    \n",
    "    # bring in the relevant parameters\n",
    "    erosion_rate = RunPars['erosion_rate'][0]\n",
    "    total_time = RunPars['total_time']\n",
    "    # open up a matrix for the annual erosion magnitudes\n",
    "    EpisodicERRockfallMatrix = np.empty((1,total_time))\n",
    "    frequency = RunPars['Frequency']\n",
    "    fall_amount = erosion_rate * frequency\n",
    "    # set the annual erosion rate to the input erosion rate\n",
    "    \n",
    "    for i in range(total_time):\n",
    "        if i % frequency == 0.0:\n",
    "            EpisodicERRockfallMatrix[0,i] = fall_amount\n",
    "        elif i == 0:\n",
    "            EpisodicERRockfallMatrix[0,i] = 0.0\n",
    "        else:\n",
    "            EpisodicERRockfallMatrix[0,i] = 0.0\n",
    "    # assign to the parameters dictionary\n",
    "    \n",
    "    RunPars['RockfallMatrix'] = EpisodicERRockfallMatrix \n",
    "        \n",
    "    return RunPars"
   ]
  }
 ],
 "metadata": {
  "kernelspec": {
   "display_name": "Python 3",
   "language": "python",
   "name": "python3"
  },
  "language_info": {
   "codemirror_mode": {
    "name": "ipython",
    "version": 3
   },
   "file_extension": ".py",
   "mimetype": "text/x-python",
   "name": "python",
   "nbconvert_exporter": "python",
   "pygments_lexer": "ipython3",
   "version": "3.9.5"
  }
 },
 "nbformat": 4,
 "nbformat_minor": 2
}
