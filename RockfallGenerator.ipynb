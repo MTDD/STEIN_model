{
 "cells": [
  {
   "cell_type": "markdown",
   "metadata": {},
   "source": [
    "## Generate Rockfall Matrix\n",
    "<br>\n",
    "  \n",
    "#### Syntax\n",
    "`RunPars = RockfallGenerator(RunPars)` <br>\n",
    "#### Input \n",
    "`RunPars` : dictionary of size 9 with the information relevant to the run. <br>\n",
    "#### Variables Used\n",
    "##### Run Pars\n",
    "`erosion_rate` : base erosion rate (cm yr-1) <br> \n",
    "`c` : Pareto distribution shape value <br>\n",
    "`scenarios` : number of scenarios per run <br>\n",
    "`total_time` : total time in the runs (yrs) <br>\n",
    "\n",
    "#### Output\n",
    "##### Run Pars\n",
    "`RockfallMatrix` : an matrix of size [s,total_time] with the annual rockfall depth (cm) for stochastic erosion, as defined by a pareto distribution with a shape value c.<br>\n",
    "`TrueErosionRates` : vector size s with the true erosion rates (L / total_time) (cm yr-1) <br>\n",
    "\n",
    "#### Notes\n",
    "**Date of Creation:** 1. Juli 2021 <br>\n",
    "**Author:** Donovan Dennis <br>\n",
    "**Update:** <br>"
   ]
  },
  {
   "cell_type": "code",
   "execution_count": 64,
   "metadata": {
    "code_folding": [
     0
    ]
   },
   "outputs": [],
   "source": [
    "def RockfallGenerator(RunPars):    \n",
    "    # bring in the relevant parameters\n",
    "    erosion_rate = RunPars['erosion_rate']\n",
    "    c = RunPars['c']\n",
    "    scenarios = RunPars['scenarios']\n",
    "    total_time = RunPars['total_time']\n",
    "    \n",
    "    rockfall_mat = np.empty((scenarios, total_time)) # open up a matrix for the annual rockfall sizes\n",
    "    ErosionRates = [0] * scenarios # define a vector of erosion rates\n",
    "    \n",
    "    # calculate a scaling factor such that the mean is equivalent to the input erosion rate\n",
    "    genparet_scale = erosion_rate*(1-c)  \n",
    "    \n",
    "    \n",
    "    # loop function that finds a distribution of rockfalls such that:\n",
    "    # the largest is < 1490 cm\n",
    "    # the true erosion rate is not > or < than 110% or 90% of the input erosion rate\n",
    "    # the minimum rockfall value every year is 0.000001 cm\n",
    "    for i in range(scenarios):\n",
    "        while True:\n",
    "            falls = scipy.stats.genpareto.rvs(size = total_time,\n",
    "                                              c = c, \n",
    "                                              scale = genparet_scale,\n",
    "                                             loc = 0.000001)\n",
    "            test_rate = np.sum(falls) / total_time\n",
    "\n",
    "            if np.max(falls) > 1490.0:\n",
    "                move_on = False\n",
    "            elif test_rate > erosion_rate + (0.1 * erosion_rate):\n",
    "                move_on = False\n",
    "            elif test_rate < erosion_rate - (0.1 * erosion_rate):\n",
    "                move_on = False\n",
    "            else:\n",
    "                move_on = True\n",
    "            \n",
    "            if move_on == True:\n",
    "                rockfall_mat[i,:] = falls\n",
    "                break\n",
    "        ErosionRates[i] = test_rate\n",
    "    \n",
    "    # assign to the parameters dictionary\n",
    "    RunPars['RockfallMatrix'] = rockfall_mat \n",
    "    RunPars['TrueErosionRates'] = ErosionRates \n",
    "    \n",
    "    return RunPars"
   ]
  }
 ],
 "metadata": {
  "kernelspec": {
   "display_name": "Python 3",
   "language": "python",
   "name": "python3"
  },
  "language_info": {
   "codemirror_mode": {
    "name": "ipython",
    "version": 3
   },
   "file_extension": ".py",
   "mimetype": "text/x-python",
   "name": "python",
   "nbconvert_exporter": "python",
   "pygments_lexer": "ipython3",
   "version": "3.9.5"
  }
 },
 "nbformat": 4,
 "nbformat_minor": 2
}
