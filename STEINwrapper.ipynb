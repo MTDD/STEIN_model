{
 "cells": [
  {
   "cell_type": "markdown",
   "id": "e493e151",
   "metadata": {},
   "source": [
    "## Wrapper Script\n",
    "<br>\n",
    "Run the functions (`FunctionRunStein()` and then do simulations. Data output files are saved (see function save_fxn at the location indicated by `file_loc` in line 10 of the first cell.<br>\n",
    "<br>\n",
    "\n",
    "#### Syntax\n",
    "#### Input \n",
    "#### Output\n",
    "\n",
    "#### Notes\n",
    "**Date of Creation:** 16. Juli 2021 <br>\n",
    "**Author:** Donovan Dennis <br>\n",
    "**Update:** <br>\n",
    "04.03.2022 : Prepared for publication <br>"
   ]
  },
  {
   "cell_type": "code",
   "execution_count": null,
   "id": "7a105f0e",
   "metadata": {},
   "outputs": [],
   "source": [
    "import numpy as np\n",
    "import pandas as pd\n",
    "import scipy as scipy\n",
    "from scipy.interpolate import interp1d, interp2d\n",
    "from scipy import linalg, stats\n",
    "import matplotlib.pyplot as plt\n",
    "import random\n",
    "from datetime import datetime\n",
    "import math as math\n",
    "import pickle"
   ]
  },
  {
   "cell_type": "code",
   "execution_count": null,
   "id": "3522b435",
   "metadata": {},
   "outputs": [],
   "source": [
    "%run FunctionRunSTEIN.ipynb # make sure this function is in the same folder as the folder containing this script\n",
    "FunctionRunSTEIN()"
   ]
  },
  {
   "cell_type": "code",
   "execution_count": null,
   "id": "7bea88eb",
   "metadata": {},
   "outputs": [],
   "source": [
    "InputPars = {'Total Time': 10000,            # time in years \n",
    "                   'Erosion Rate': 0.1,      # erosion rate in cm yr-1\n",
    "                   'Scenarios': 1,           # number of different erosion simulations at given erosion rate\n",
    "                   'c': 0.7,                 # Pareto distribution shape value\n",
    "                   'MAT': 0,                 # mean annual T, deg C\n",
    "                   'T_AMP': 5}               # seasonal temperature amplitude in MAT  (deg C)\n",
    "\n",
    "file_loc = r'C:'                             # output data save location --> files can be large!"
   ]
  },
  {
   "cell_type": "code",
   "execution_count": null,
   "id": "daf184f0",
   "metadata": {},
   "outputs": [],
   "source": [
    "# Example Single Run\n",
    "\n",
    "start = datetime.now()\n",
    "\n",
    "CalcPars, RunPars, CosmoPars, HeliumPars = RunSimulationsStoch(InputPars)  \n",
    "save_fxn(CalcPars, RunPars, CosmoPars, HeliumPars, file_loc)\n",
    "\n",
    "end = datetime.now()\n",
    "print(end - start)"
   ]
  },
  {
   "cell_type": "code",
   "execution_count": null,
   "id": "7b599d7e",
   "metadata": {},
   "outputs": [],
   "source": [
    "# Example Loop Script\n",
    "\n",
    "ErosionRates = [1.0, 0.15, 0.1, 0.075, 0.01]\n",
    "\n",
    "for i in range(len(ErosionRates)):\n",
    "    InputPars['Erosion Rate'] = [ErosionRates[i]]\n",
    "\n",
    "    start = datetime.now()\n",
    "\n",
    "    CalcPars, RunPars, CosmoPars, HeliumPars = RunSimulationsStoch(InputPars)  \n",
    "    save_fxn(CalcPars, RunPars, CosmoPars, HeliumPars, file_loc)\n",
    "\n",
    "    end = datetime.now()\n",
    "    print(end - start)"
   ]
  }
 ],
 "metadata": {
  "kernelspec": {
   "display_name": "Python 3",
   "language": "python",
   "name": "python3"
  },
  "language_info": {
   "codemirror_mode": {
    "name": "ipython",
    "version": 3
   },
   "file_extension": ".py",
   "mimetype": "text/x-python",
   "name": "python",
   "nbconvert_exporter": "python",
   "pygments_lexer": "ipython3",
   "version": "3.9.5"
  }
 },
 "nbformat": 4,
 "nbformat_minor": 5
}
