{
 "cells": [
  {
   "cell_type": "markdown",
   "id": "608991f7",
   "metadata": {},
   "source": [
    "## Accumulate and Decay <sup>14</sup>C\n",
    "<br>\n",
    "  \n",
    "#### Syntax\n",
    "`conc14C = C14AnnualFxn(conc0, CosmoPars)` <br>\n",
    "#### Input \n",
    "`conc0` : vector of size len(CRNz) with spacing dz containing the initial concentration (at g-1)<br>\n",
    "`CosmoPars` : dictionary of cosmogenic nuclide accumulation/decay parameters.<br>\n",
    "#### Variables Used\n",
    "##### Cosmo Pars\n",
    "`CRNz` : depth vector of len(max_depths / dz) <br>\n",
    "`scaling_factor` : CN scaling factor (e.g. Stone 2000) <br> \n",
    "`rock_rho` :  = bulk rock density (g cm-3) <br>\n",
    "`mu` : att length / density <br>\n",
    "`SLHLC14` : SLHL production rate for 14C <br>\n",
    "`C14 thalf` : C14 half life half-life <br>\n",
    "`C14_decay` = decay constant for C14 <br>\n",
    "`C14 f_tot` = total muon flux <br>\n",
    "`C14 A1` = pre-exponential term for fast muon production <br>\n",
    "`C14 A2` = pre-exponential term for fast muon production <br>\n",
    "`C14 L1` = attenuation length for fast muon production <br>\n",
    "`C14 L2` = attenuation length for fast muon production <br>   \n",
    "#### Output\n",
    "`conc14C` : vector of size len(CRNz) with spacing dz containing concentrations after this additional year (at g-1).<br>\n",
    "#### Notes\n",
    "**Date of Creation:** 1. Juli 2021 <br>\n",
    "**Author:** Donovan Dennis <br>\n",
    "**Update:** <br>"
   ]
  },
  {
   "cell_type": "code",
   "execution_count": 1,
   "id": "63128a37",
   "metadata": {},
   "outputs": [],
   "source": [
    "def C14AnnualFxn(conc0, CosmoPars):    \n",
    "    # import the relevant cosmo acc/decay parameters\n",
    "    \n",
    "    CRNz = CosmoPars['CRNz']\n",
    "    scaling_factor = CosmoPars['scaling_factor']\n",
    "    mu = CosmoPars['mu']\n",
    "    rock_rho = CosmoPars['rock_rho']\n",
    "    SLHLC14 = CosmoPars['SLHL_C14']\n",
    "    thalf = CosmoPars['C14 thalf']\n",
    "    C14_decay = CosmoPars['C14 decay'] \n",
    "    f_tot = CosmoPars['C14 f_tot'] \n",
    "    A1 = CosmoPars['C14 A1']\n",
    "    A2 = CosmoPars['C14 A2']\n",
    "    L1 = CosmoPars['L1 C14']\n",
    "    L2 = CosmoPars['L2 C14']   \n",
    "    \n",
    "    C14_P0 = SLHLC14 * scaling_factor   # production rate atoms g-1 yr-1\n",
    "    \n",
    "    # loop to determine fast muon concentration at depth CRNz[i]\n",
    "    muons = [f_tot * (A1*np.e**((-rock_rho * CRNz[i])/L1) + A2*np.e**((-rock_rho*CRNz[i])/L2)) for i in range(len(CRNz))]  \n",
    "    # and loop again for spallogenic concentration at depth CRNz[i]\n",
    "    spallation = [C14_P0 * np.e**(-mu * CRNz[i]) for i in range(len(CRNz))]\n",
    "    # grids match so can directly add concentrations to each other\n",
    "    production_tot_14 = [spallation[i] + muons[i] for i in range(len(CRNz))]\n",
    "    \n",
    "    # return the total concentration after C-14 decay\n",
    "    conc14C = [conc0[i]*np.e**(-C14_decay) + (production_tot_14[i] / (C14_decay + 0) * (1 - np.e**(-(C14_decay + 0) * 1))) for i in range(len(CRNz))]  \n",
    "    \n",
    "    return conc14C"
   ]
  }
 ],
 "metadata": {
  "kernelspec": {
   "display_name": "Python 3",
   "language": "python",
   "name": "python3"
  },
  "language_info": {
   "codemirror_mode": {
    "name": "ipython",
    "version": 3
   },
   "file_extension": ".py",
   "mimetype": "text/x-python",
   "name": "python",
   "nbconvert_exporter": "python",
   "pygments_lexer": "ipython3",
   "version": "3.9.5"
  }
 },
 "nbformat": 4,
 "nbformat_minor": 5
}
