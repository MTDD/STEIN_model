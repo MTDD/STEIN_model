{
 "cells": [
  {
   "cell_type": "markdown",
   "metadata": {},
   "source": [
    "## Diffuse He-3 in the grain\n",
    "<br>\n",
    "  \n",
    "#### Syntax\n",
    "`conc0 = ProdDiffHe3Fxn(conc0, HeP0, EDT, HeliumPars)` <br>\n",
    "#### Input \n",
    "`conc0` : concentration prior to diffusion (at g-1) <br>\n",
    "`HeP0` : production rate of He-3 (spallation); (at g-1 yr-1) <br>\n",
    "`EDT` : effective diffusion temperature (K) <br>\n",
    "`HeliumPars` : dictionary of parameters relevant for Helium production/decay <br>\n",
    "#### Variables Used\n",
    "##### Helium Pars\n",
    "`x` : vector of He grain nodes\n",
    "`R` : R constant\n",
    "`Ea` : activation energy\n",
    "`lnD0aa` \n",
    "`nx` : number of nodes in the grain\n",
    "`dx` : grain node spacing\n",
    "`r` : grain radius (cm) \n",
    "#### Output\n",
    "##### Calc Pars\n",
    "`He Surf Matrix` : matrix size Hez with concentration of 3He at depth for given grain size and density <br>\n",
    "#### Notes\n",
    "Adapted from code sent from Marissa Tremblay for He3 diffusion in a quartz grain.\n",
    "\n",
    "**Date of Creation:** 7. Juli 2021 <br>\n",
    "**Author:** Donovan Dennis (after Tremblay) <br>\n",
    "**Update:** <br>"
   ]
  },
  {
   "cell_type": "code",
   "execution_count": 1,
   "metadata": {},
   "outputs": [],
   "source": [
    "def ProdDiffHe3Fxn(conc0, HeP0, EDT, HeliumPars):    \n",
    "    x = HeliumPars['x']\n",
    "    R = HeliumPars['R']\n",
    "    Ea = HeliumPars['He_Ea']\n",
    "    lnD0aa = HeliumPars['lnD0aa']\n",
    "    a = HeliumPars['a']\n",
    "    nx = HeliumPars['nx']\n",
    "    dx = HeliumPars['dx']\n",
    "    r = HeliumPars['r']\n",
    "    \n",
    "    dt = 1\n",
    "    cminm = 100\n",
    "    siy = 60 * 60 * 24 * 365.25\n",
    "    D0 = 1.22e-2 * cminm # Schuster and Farley via Baxter 2010\n",
    "    D = D0 / r**2 * siy * np.exp(-Ea / R/ EDT)   \n",
    "    \n",
    "    beta = (2.0 * dx**2) / (D * dt)\n",
    "    \n",
    "    A1 = np.multiply(np.diag(np.ones(nx)), (-2 -beta)) + np.diag(np.ones(nx-1), k = 1) + np.diag(np.ones(nx-1), k = -1)\n",
    "    A2 = np.multiply(np.diag(np.ones(nx)), (2 - beta)) - np.diag(np.ones(nx-1), k = 1) - np.diag(np.ones(nx-1), k = -1)\n",
    "    A1[0,0] = A1[0,0] - 1\n",
    "    A2[0,0] = A2[0,0] + 1 \n",
    "\n",
    "    unew = np.multiply(conc0, x)\n",
    "    He_3_prod = np.multiply(HeP0,x) * beta * dt\n",
    "\n",
    "    b = A2 @ unew - He_3_prod\n",
    "\n",
    "    unew = np.linalg.solve(A1,b)\n",
    "    conc0 = np.divide(unew, x)\n",
    "  \n",
    "    return conc0"
   ]
  }
 ],
 "metadata": {
  "kernelspec": {
   "display_name": "Python 3",
   "language": "python",
   "name": "python3"
  },
  "language_info": {
   "codemirror_mode": {
    "name": "ipython",
    "version": 3
   },
   "file_extension": ".py",
   "mimetype": "text/x-python",
   "name": "python",
   "nbconvert_exporter": "python",
   "pygments_lexer": "ipython3",
   "version": "3.9.5"
  }
 },
 "nbformat": 4,
 "nbformat_minor": 2
}
