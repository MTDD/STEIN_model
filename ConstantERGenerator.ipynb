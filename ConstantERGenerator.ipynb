{
 "cells": [
  {
   "cell_type": "markdown",
   "metadata": {},
   "source": [
    "## Generate Constant Erosion Rockfall Matrix\n",
    "<br>\n",
    "  \n",
    "#### Syntax\n",
    "`RunPars = ConstantERGenerator` <br>\n",
    "#### Input \n",
    "`RunPars` : dictionary containing the run parameters <br>\n",
    "##### Variables\n",
    "`erosion_rate` : the given erosion rate (cm yr-1) <br>\n",
    "`total_time` : total time in the runs (yrs) <br>\n",
    "#### Output\n",
    "`RunPars` : dictionary containing run parameters now including the rockfall matrix<br>\n",
    "##### Variables\n",
    "`RockfallMatrix` : rockfall matrix with the input erosion depth each occurring every year (cm) <br>\n",
    "#### Notes\n",
    "**Date of Creation:** 7. Juli 2021 <br>\n",
    "**Author:** Donovan Dennis <br>\n",
    "**Update:** <br>"
   ]
  },
  {
   "cell_type": "code",
   "execution_count": 7,
   "metadata": {
    "code_folding": [
     0
    ]
   },
   "outputs": [],
   "source": [
    "def ConstantERGenerator(RunPars):    \n",
    "    # bring in the relevant parameters\n",
    "    erosion_rate = RunPars['erosion_rate']\n",
    "    total_time = RunPars['total_time']\n",
    "    # open up a matrix for the annual erosion magnitudes\n",
    "    ConstERRockfallMatrix = np.empty((1,total_time))    \n",
    "    # set the annual erosion rate to the input erosion rate\n",
    "    ConstERRockfallMatrix[:] = erosion_rate\n",
    "    # assign to the parameters dictionary\n",
    "    RunPars['RockfallMatrix'] = ConstERRockfallMatrix \n",
    "        \n",
    "    return RunPars"
   ]
  }
 ],
 "metadata": {
  "kernelspec": {
   "display_name": "Python 3",
   "language": "python",
   "name": "python3"
  },
  "language_info": {
   "codemirror_mode": {
    "name": "ipython",
    "version": 3
   },
   "file_extension": ".py",
   "mimetype": "text/x-python",
   "name": "python",
   "nbconvert_exporter": "python",
   "pygments_lexer": "ipython3",
   "version": "3.9.5"
  }
 },
 "nbformat": 4,
 "nbformat_minor": 2
}
