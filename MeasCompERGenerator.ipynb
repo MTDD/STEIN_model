{
 "cells": [
  {
   "cell_type": "markdown",
   "metadata": {},
   "source": [
    "## Generate Constant Erosion Comparisons Matrix\n",
    "<br>\n",
    "  \n",
    "#### Syntax\n",
    "`RunCompPars = MeasCompERGenerator(RunCompPars, RunPars, CalcPars)` <br>\n",
    "#### Input \n",
    "`RunCompPars` : dictionary containing the run parameters for the comparison runs. <br>\n",
    "`RunPars` : dictionary containing the run parameters <br>\n",
    "`CalcPars` : dictionary containing the model-derived/calculated values <br>\n",
    "##### Variables\n",
    "`TrueErosionRates` : vector containing hte true erosion rates (L/T) (cm yr-1) <br>\n",
    "`MeasuredERs` : vector containing the Be-10 measured (apparent) erosion rates (cm yr-1) <br>\n",
    "`scenarios` : number of scenarios <br>\n",
    "`total_time` : total time in the runs (yrs) <br>\n",
    "#### Output\n",
    "`RunCompPars` : comparison parameters for the runs (those based on calculated erosion rates from Be-10) <br>\n",
    "##### Variables\n",
    "`RockfallMatrix` : rockfall matrix with the true uniform erosion rate each year (cm) <br>\n",
    "`TrueErosionRates` : output of the true erosion rates (L/T) (cm yr-1); <br>\n",
    "#### Notes\n",
    "**Date of Creation:** 2. Juli 2021 <br>\n",
    "**Author:** Donovan Dennis <br>\n",
    "**Update:** <br>"
   ]
  },
  {
   "cell_type": "code",
   "execution_count": 7,
   "metadata": {
    "code_folding": [
     0
    ]
   },
   "outputs": [],
   "source": [
    "def MeasCompERGenerator(RunCompPars, RunPars, CalcPars):    \n",
    "    \n",
    "    # bring in the relevant parameters\n",
    "    TrueERs = RunPars['TrueErosionRates']\n",
    "    MeasuredERs = CalcPars['Measured Erosion Rates']\n",
    "    scenarios = RunCompPars['scenarios']\n",
    "    total_time = RunCompPars['total_time']\n",
    "    \n",
    "    # open up a matrix for the annual erosion magnitudes\n",
    "    MeasCompRockfallMatrix = np.empty((scenarios, total_time))    \n",
    "    \n",
    "    ErosionRates = [0]*scenarios\n",
    "    # loop through the set the eroded amount every year to the respective measured erosion rate\n",
    "    for i in range(scenarios):\n",
    "        MeasCompRockfallMatrix[i,:] = MeasuredERs[i]\n",
    "        ErosionRates[i] = np.sum(MeasCompRockfallMatrix[i,:]) / total_time\n",
    "\n",
    "    # assign to the parameters dictionary\n",
    "    RunCompPars['RockfallMatrix'] = MeasCompRockfallMatrix \n",
    "    RunCompPars['TrueErosionRates'] = TrueERs\n",
    "    \n",
    "    return RunCompPars"
   ]
  }
 ],
 "metadata": {
  "kernelspec": {
   "display_name": "Python 3",
   "language": "python",
   "name": "python3"
  },
  "language_info": {
   "codemirror_mode": {
    "name": "ipython",
    "version": 3
   },
   "file_extension": ".py",
   "mimetype": "text/x-python",
   "name": "python",
   "nbconvert_exporter": "python",
   "pygments_lexer": "ipython3",
   "version": "3.9.5"
  }
 },
 "nbformat": 4,
 "nbformat_minor": 2
}
