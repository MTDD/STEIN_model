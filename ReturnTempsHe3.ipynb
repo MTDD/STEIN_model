{
 "cells": [
  {
   "cell_type": "code",
   "execution_count": 2,
   "id": "cd7e5954",
   "metadata": {},
   "outputs": [],
   "source": [
    "def ReturnTempsHe3(RunPars, HeliumPars):\n",
    "    Hez = HeliumPars['Hez']\n",
    "    \n",
    "    HeliumPars = CalculateEDTsFxn(RunPars, HeliumPars)\n",
    "    EDTs = HeliumPars['EDTs']\n",
    "    \n",
    "    EDTInterpFxn = interp1d(x = Hez, y = EDTs, \n",
    "                        kind = 'linear',\n",
    "                        fill_value = \"extrapolate\")\n",
    "    EDTz = EDTInterpFxn(x = Hez)\n",
    "    \n",
    "    HeliumPars['EDTInterpFxn'] = EDTInterpFxn\n",
    "    HeliumPars['EDTz'] = EDTz\n",
    "    \n",
    "    return HeliumPars"
   ]
  }
 ],
 "metadata": {
  "kernelspec": {
   "display_name": "Python 3",
   "language": "python",
   "name": "python3"
  },
  "language_info": {
   "codemirror_mode": {
    "name": "ipython",
    "version": 3
   },
   "file_extension": ".py",
   "mimetype": "text/x-python",
   "name": "python",
   "nbconvert_exporter": "python",
   "pygments_lexer": "ipython3",
   "version": "3.9.5"
  }
 },
 "nbformat": 4,
 "nbformat_minor": 5
}
