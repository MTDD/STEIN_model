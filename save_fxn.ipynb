{
 "cells": [
  {
   "cell_type": "markdown",
   "id": "2d0fdc40",
   "metadata": {},
   "source": [
    "## Save outputs from wrapper as .pkl\n",
    "<br>\n",
    "  \n",
    "#### Syntax\n",
    "`save_fxn(CalcPars, RunPars, CosmoPars, HeliumPars)` <br>\n",
    "#### Input \n",
    "`CalcPars` : dictionary of calculated concentrations and values for \"samples\" <br>\n",
    "`RunPars` : dictionary of parameters relevant for the entire model run <br>\n",
    "`CosmoPars` : dictionary of parameters relevant for CRN calculatiosn <br>\n",
    "`HeliumPars` : dictionary containing parameters relevant for He3 calcualtions <br>\n",
    "`file_loc` : cd where the file should be saved\n",
    "#### Output\n",
    "\n",
    "#### Notes\n",
    "**Date of Creation:** 19. August 2021 <br>\n",
    "**Author:** Donovan Dennis <br>\n",
    "**Updates:** <br>"
   ]
  },
  {
   "cell_type": "code",
   "execution_count": 1,
   "id": "c91b5aa2",
   "metadata": {},
   "outputs": [],
   "source": [
    "def save_fxn(CalcPars, RunPars, CosmoPars, HeliumPars, file_loc):\n",
    "    c = RunPars['c']\n",
    "    ER = RunPars['erosion_rate']\n",
    "    He_output = open(file_loc + '\\HeliumPars_c'+str(c)+'__ER'+str(ER)+'.pkl', 'wb')\n",
    "    Calc_output = open(file_loc + '\\CalcPars_c'+str(c)+'__ER'+str(ER)+'.pkl', 'wb')\n",
    "    Cosmo_output = open(file_loc + '\\CosmoPars_c'+str(c)+'__ER'+str(ER)+'.pkl', 'wb')\n",
    "    RunPars_output = open(file_loc + '\\RunPars_c'+str(c)+'__ER'+str(ER)+'.pkl', 'wb')\n",
    "    CRN_mat_output = open(file_loc + '\\CRN_matrix_c'+str(c)+'__ER'+str(ER)+'.pkl','wb')\n",
    "    He_mat_output = open(file_loc + '\\He_matrix_c'+str(c)+'__ER'+str(ER)+'.pkl', 'wb')\n",
    "    \n",
    "    pickle.dump(HeliumPars, He_output)\n",
    "    pickle.dump(CalcPars, Calc_output)\n",
    "    pickle.dump(CosmoPars, Cosmo_output)\n",
    "    pickle.dump(RunPars, RunPars_output)\n",
    "    pickle.dump(CalcPars['CRN Surface Conc.'], CRN_mat_output)\n",
    "    pickle.dump(CalcPars['He Surf Matrix'], He_mat_output)\n",
    "    \n",
    "    He_output.close()\n",
    "    Calc_output.close()\n",
    "    Cosmo_output.close()\n",
    "    RunPars_output.close()\n",
    "    He_mat_output.close()\n",
    "    CRN_mat_output.close()"
   ]
  }
 ],
 "metadata": {
  "kernelspec": {
   "display_name": "Python 3",
   "language": "python",
   "name": "python3"
  },
  "language_info": {
   "codemirror_mode": {
    "name": "ipython",
    "version": 3
   },
   "file_extension": ".py",
   "mimetype": "text/x-python",
   "name": "python",
   "nbconvert_exporter": "python",
   "pygments_lexer": "ipython3",
   "version": "3.9.5"
  }
 },
 "nbformat": 4,
 "nbformat_minor": 5
}
