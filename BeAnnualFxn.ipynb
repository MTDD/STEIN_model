{
 "cells": [
  {
   "cell_type": "markdown",
   "id": "10d0ac2e",
   "metadata": {},
   "source": [
    "## Accumulate and Decay <sup>10</sup>Be\n",
    "<br>\n",
    "  \n",
    "#### Syntax\n",
    "`conc10Be = Be10AnnualFxn(conc0, CosmoPars)` <br>\n",
    "#### Input \n",
    "`conc0` : vector of size len(CRNz) with spacing dz containing the initial concentration (at g-1).\n",
    "`CosmoPars` : dictionary of cosmogenic nuclide accumulation/decay parameters. <br>\n",
    "\n",
    "#### Variables Used\n",
    "##### Cosmo Pars\n",
    "`CRNz` : depth vector of len(max_depths / dz) <br>\n",
    "`SLHLBe10` : SLHL 10Be production rate (at g-1 yr-1) <br>\n",
    "`scaling_factor` : CN scaling factor (e.g. Stone 2000) <br> \n",
    "`Be10_decay` : Be10 decay constant (yr-1)<br>\n",
    "`B_Be` : pre-exponential term for Be muogenic production <br>\n",
    "`L3` : fast muon attenuation length Be10 (cm-2) <br>\n",
    "`rock_rho` :  = bulk rock density (g cm-3) <br>\n",
    "`mu` : att length / density <br>\n",
    "\n",
    "#### Output\n",
    "`conc10Be` : vector of size len(CRNz) with spacing dz containing concentrations after this additional year (at g-1).<br>\n",
    "#### Notes\n",
    "**Date of Creation:** 1. Juli 2021 <br>\n",
    "**Author:** Donovan Dennis <br>\n",
    "**Update:** <br>\n",
    "04.03.2022 : Renamed from Be10AnnualFxnmtest to Be10AnnualFxn for publication. <br>"
   ]
  },
  {
   "cell_type": "code",
   "execution_count": 4,
   "id": "a4ac6d82",
   "metadata": {},
   "outputs": [],
   "source": [
    "def Be10AnnualFxn(conc0, muon0, spall0, CosmoPars):\n",
    "    # import the relevant cosmo acc/decay parameters\n",
    "    CRNz = CosmoPars['CRNz']\n",
    "    SLHLBe10 = CosmoPars['SLHL_Be10']\n",
    "    scaling_factor = CosmoPars['scaling_factor']\n",
    "    Be10_decay = CosmoPars['Be10 Decay']\n",
    "    B_Be = CosmoPars['B_Be']\n",
    "    L3 = CosmoPars['L3 Be']\n",
    "    rock_rho = CosmoPars['rock_rho']\n",
    "    mu = CosmoPars['mu']\n",
    "    \n",
    "    # calculate site-specific production rate atoms-1 g-1  yr-1\n",
    "    Be10_P0 = SLHLBe10 * scaling_factor\n",
    "    \n",
    "    # loop to determine fast muon concentration at depth CRNz[i]\n",
    "    fast_muons_10 = [B_Be * np.e**(-rock_rho * CRNz[i] / L3) for i in range(len(CRNz))]\n",
    "    # and loop again for spallogenic concentration at depth CRNz[i]\n",
    "    spallogenic_10 = [Be10_P0 * np.e**(-mu * CRNz[i]) for i in range(len(CRNz))]\n",
    "    # grids match so can directly add concentrations to each other\n",
    "    production_tot_10 = [fast_muons_10[i] + spallogenic_10[i] for i in range(len(CRNz))]\n",
    "    \n",
    "    # return the total concentration after Be-10 decay\n",
    "    muon10Be = [muon0[i] * np.e**(-Be10_decay) + (fast_muons_10[i] / (Be10_decay + 0) * (1 - np.e**(-(Be10_decay + 0) * 1))) for i in range(len(CRNz))] \n",
    "    spall10Be = [spall0[i] * np.e**(-Be10_decay) + (spallogenic_10[i] / (Be10_decay + 0) * (1 - np.e**(-(Be10_decay + 0) * 1))) for i in range(len(CRNz))] \n",
    "    \n",
    "    conc10Be = [conc0[i] * np.e**(-Be10_decay) + (production_tot_10[i] / (Be10_decay + 0) * (1 - np.e**(-(Be10_decay + 0) * 1))) for i in range(len(CRNz))]    \n",
    "\n",
    "    return conc10Be, muon10Be, spall10Be, "
   ]
  }
 ],
 "metadata": {
  "kernelspec": {
   "display_name": "Python 3",
   "language": "python",
   "name": "python3"
  },
  "language_info": {
   "codemirror_mode": {
    "name": "ipython",
    "version": 3
   },
   "file_extension": ".py",
   "mimetype": "text/x-python",
   "name": "python",
   "nbconvert_exporter": "python",
   "pygments_lexer": "ipython3",
   "version": "3.9.5"
  }
 },
 "nbformat": 4,
 "nbformat_minor": 5
}
