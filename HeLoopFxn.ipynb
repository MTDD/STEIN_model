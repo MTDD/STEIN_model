{
 "cells": [
  {
   "cell_type": "markdown",
   "id": "eb3d6caf",
   "metadata": {},
   "source": [
    "## Return He-3 concentrations\n",
    "<br>\n",
    "  \n",
    "#### Syntax\n",
    "`CalcPars = HeLoopFxn(RunPars, CosmoPars, HeliumPars, CalcPars)` <br>\n",
    "#### Input \n",
    "`RunPars` : dictionary of parameters relevant for the whole model run <br>\n",
    "`CosmoPars` : dictionary of parameters relevant for CRN production/decay <br>\n",
    "`HeliumPars` : dictionary of parameters relevant for He-3 production/diffusion <br>\n",
    "`CalcPars` : dictionary of parameters with return CRN + He-3 calculations <br>\n",
    "#### Variables Used\n",
    "##### Run Pars\n",
    "`RockfallMatrix` : matrix of rockfall depths size s * total_time <br>\n",
    "`total_time` : total years of the run (yr) <br>\n",
    "`s` : number of scenarios <br> \n",
    "`dz` : depth node spacing (cm) <br> \n",
    "`Hez` : Helium node depths (cm) <br>\n",
    "`nx` : number of He grain nodes <br>\n",
    "`shell_mass` : vector size nx with mass of qtz grain shells for He3 diffusion (g) <br>\n",
    "#### Output\n",
    "##### Calc Pars\n",
    "`He Surf Matrix` : matrix size Hez with concentration of 3He at depth for given grain size and density <br>\n",
    "#### Notes\n",
    "**Date of Creation:** 7. Juli 2021 <br>\n",
    "**Author:** Donovan Dennis <br>\n",
    "**Update:** <br>"
   ]
  },
  {
   "cell_type": "code",
   "execution_count": 5,
   "id": "6e84fbfc",
   "metadata": {},
   "outputs": [],
   "source": [
    "def HeLoopFxn(RunPars, CosmoPars, HeliumPars, CalcPars):\n",
    "    RockfallMatrix = RunPars['RockfallMatrix']\n",
    "    total_time = RunPars['total_time']\n",
    "    s = RunPars['scenarios']\n",
    "    dz = RunPars['dz']\n",
    "    \n",
    "    Hez = HeliumPars['Hez']\n",
    "    nx = HeliumPars['nx']\n",
    "    shell_mass = HeliumPars['shell_mass']\n",
    "    \n",
    "    HeliumPars = ReturnTempsHe3(RunPars, HeliumPars)\n",
    "    HeSurfMatrix = np.empty((total_time,s))\n",
    "    \n",
    "    for i in range(s):\n",
    "        conc3He = [[0]*nx] * len(Hez)\n",
    "        HeSurf = np.empty((total_time,))\n",
    "            \n",
    "        for j in range(total_time):\n",
    "            erode_z = RockfallMatrix[i,j]\n",
    "            conc3He = HeErodeFxn(conc3He, erode_z, CosmoPars, HeliumPars)\n",
    "            HeSurf[j] = np.average([np.average(conc3He[i], weights = shell_mass) for i in range(int(6))])\n",
    "        \n",
    "        HeSurfMatrix[:,i] = HeSurf\n",
    "    \n",
    "    CalcPars['conc3He']\n",
    "    CalcPars['He Surf Matrix'] = HeSurfMatrix\n",
    "    \n",
    "    return CalcPars"
   ]
  }
 ],
 "metadata": {
  "kernelspec": {
   "display_name": "Python 3",
   "language": "python",
   "name": "python3"
  },
  "language_info": {
   "codemirror_mode": {
    "name": "ipython",
    "version": 3
   },
   "file_extension": ".py",
   "mimetype": "text/x-python",
   "name": "python",
   "nbconvert_exporter": "python",
   "pygments_lexer": "ipython3",
   "version": "3.9.5"
  }
 },
 "nbformat": 4,
 "nbformat_minor": 5
}
