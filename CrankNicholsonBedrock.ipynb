{
 "cells": [
  {
   "cell_type": "code",
   "execution_count": 3,
   "id": "f0af24ca",
   "metadata": {},
   "outputs": [],
   "source": [
    "def crank_nicolson(T0, nt, nx, dt, dx, Tv, alpha, q):\n",
    "    sigma = alpha * dt / dx**2\n",
    "    \n",
    "    A = lhs_operator(len(T0) - 2, sigma)\n",
    "    T = T0.copy()\n",
    "    T_mat = np.empty((nx,nt))\n",
    "\n",
    "    for n in range(nt):\n",
    "        Tsurf = Tv[n]\n",
    "        b = rhs_vector(T, sigma, Tsurf, q * dx)                             # Generate RHS\n",
    "        T[1:-1] = linalg.solve(A, b)                                        # Solve the system\n",
    "        T[-1] = T[-2] + q * dx                                              # Apply Neumann BC\n",
    "        T[0] = Tsurf        \n",
    "        T_mat[:,n] = T\n",
    "        \n",
    "    return T, T_mat"
   ]
  },
  {
   "cell_type": "code",
   "execution_count": 1,
   "id": "076689e5",
   "metadata": {},
   "outputs": [],
   "source": [
    "def ReturnBedrockTemps(RunPars, HeliumPars):\n",
    "    nt = HeliumPars['thermnt']\n",
    "    Tv = np.empty((nt))\n",
    "    Py = 1\n",
    "    \n",
    "    HeliumPars['T_Surf'] = Tv \n",
    "    # Set parameters.\n",
    "    L = RunPars['max_depths'][0] + 1  # length of the rod\n",
    "    nx = HeliumPars['nz']  # number of points on the rod\n",
    "    dx = L / (nx - 1)  # grid spacing\n",
    "    alpha = HeliumPars['alpha_cmhr']  # thermal diffusivity of the rock in cm2 / hour\n",
    "    q = 0 # temperature gradient at the extremity\n",
    "    # z = 0 # depth at which we want the temperature (cm) --> aka, we want the surface\n",
    "    # Set the initial temperature distribution.\n",
    "    \n",
    "    T0 = np.zeros(nx)\n",
    "    T0[:] = RunPars['MAT']\n",
    "    \n",
    "    #sigma = 0.5\n",
    "    #dt = sigma * dx**2 / alpha  # time-step size\n",
    "    dt = HeliumPars['thermdt']\n",
    "    \n",
    "    T, T_mat = crank_nicolson(T0, nt, nx, dt, dx, Tv, alpha, q)\n",
    "    \n",
    "    HeliumPars['T_Mat'] = T_mat\n",
    "    \n",
    "    if HeliumPars['Normal T Fxn'] == True:\n",
    "        for n in range(nt):\n",
    "            t = n / nt\n",
    "            inner_term = np.pi / alpha * Py\n",
    "            Tv[n] = RunPars['MAT'] - RunPars['T_AMP'] * np.exp(inner_term) * np.cos((2 * np.pi * t / Py) - z * np.sqrt(inner_term) )    \n",
    "    \n",
    "    elif HeliumPars['Normal T Fxn'] == False:\n",
    "        for n in range(nt):\n",
    "            t = n / nt\n",
    "            Tv[n] = RunPars['MAT'] - RunPars['T_AMP'] * np.exp(0) * np.cos(2 * np.pi * t / Py - 0)    \n",
    "            Tv[4147:4315] = Tv[4146] + 6\n",
    "    \n",
    "    return T_mat, HeliumPars"
   ]
  },
  {
   "cell_type": "code",
   "execution_count": null,
   "id": "ca0004d1",
   "metadata": {},
   "outputs": [],
   "source": [
    "def lhs_operator(N, sigma):\n",
    "    # Setup the diagonal of the operator.\n",
    "    D = np.diag(2.0 * (1.0 + 1.0 / sigma) * np.ones(N))\n",
    "    # Setup the Neumann condition for the last element.\n",
    "    D[-1, -1] = 1.0 + 2.0 / sigma\n",
    "    # Setup the upper diagonal of the operator.\n",
    "    U = np.diag(-1.0 * np.ones(N - 1), k=1)\n",
    "    # Setup the lower diagonal of the operator.\n",
    "    L = np.diag(-1.0 * np.ones(N - 1), k=-1)\n",
    "    # Assemble the operator.\n",
    "    A = D + U + L\n",
    "    return A"
   ]
  },
  {
   "cell_type": "code",
   "execution_count": null,
   "id": "32e1035c",
   "metadata": {},
   "outputs": [],
   "source": [
    "def rhs_vector(T, sigma, surf, qdx):\n",
    "    b = T[:-2] + 2.0 * (1.0 / sigma - 1.0) * T[1:-1] + T[2:]\n",
    "    # Set Dirichlet condition.\n",
    "    b[0] += surf\n",
    "    # Set Neumann condition.\n",
    "    b[-1] += qdx\n",
    "    \n",
    "    return b"
   ]
  },
  {
   "cell_type": "code",
   "execution_count": null,
   "id": "eb206a67",
   "metadata": {},
   "outputs": [],
   "source": [
    "def diff_calc(T):\n",
    "    \n",
    "    Diff = [10**(-3928.1*(1/(T[i])) - 2.9315) for i in range(len(T))]              # cm^^2 * s^-1\n",
    "    \n",
    "    return Diff"
   ]
  }
 ],
 "metadata": {
  "kernelspec": {
   "display_name": "Python 3",
   "language": "python",
   "name": "python3"
  },
  "language_info": {
   "codemirror_mode": {
    "name": "ipython",
    "version": 3
   },
   "file_extension": ".py",
   "mimetype": "text/x-python",
   "name": "python",
   "nbconvert_exporter": "python",
   "pygments_lexer": "ipython3",
   "version": "3.9.5"
  }
 },
 "nbformat": 4,
 "nbformat_minor": 5
}
