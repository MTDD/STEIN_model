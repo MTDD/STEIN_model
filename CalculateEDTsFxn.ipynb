{
 "cells": [
  {
   "cell_type": "markdown",
   "id": "6da49243",
   "metadata": {},
   "source": [
    "## Calculate the effective diffusion temperature\n",
    "<br>\n",
    "  \n",
    "#### Syntax\n",
    "`HeliumPars = CalculateEDTsFxn(RunPars, HeliumPars)` <br>\n",
    "#### Input \n",
    "`RunPars` : dictionary of terms consistent for the whole run of the model.<br>\n",
    "`HeliumPars` : dictionary of terms relevant for He-3 production and diffusion . <br>\n",
    "#### Variables Used\n",
    "##### Helium Pars\n",
    "`Hez` : depth vector of len(max_depths[0] / dz) <br>\n",
    "`Ea` : activation energy <br>\n",
    "`R` : R constant <br> \n",
    "#### Output\n",
    "##### Helium Pars\n",
    "`EDTs` : vector of size len(Hez) with spacing dz containing the effective diffusion temperature (essentially a scaled mean) (K).<br>\n",
    "`Diff_z` : vector of size len(Hez) spaced dz with the diffusivity at every depth <br>\n",
    "`DepthMeanTs` : vector size len(Hez) spaced dz with mean T at each depth <br>\n",
    "#### Notes\n",
    "**Date of Creation:** 7. Juli 2021 <br>\n",
    "**Author:** Donovan Dennis <br>\n",
    "**Update:** <br>"
   ]
  },
  {
   "cell_type": "code",
   "execution_count": null,
   "id": "f81c9efc",
   "metadata": {},
   "outputs": [],
   "source": [
    "def CalculateEDTsFxn(RunPars, HeliumPars):    \n",
    "    # import parameters\n",
    "    Hez = HeliumPars['Hez']\n",
    "    Ea = HeliumPars['EDT_Ea']\n",
    "    R = HeliumPars['R']\n",
    "    nz = HeliumPars['nz']\n",
    "    # run the crank-nicolson setup for the diffusion of temperature\n",
    "    Temps, HeliumPars = ReturnBedrockTemps(RunPars, HeliumPars)\n",
    "    # open empty lists\n",
    "    depth_mean_Ts = [] * np.shape(Temps)[0]\n",
    "    depth_integ = [] * np.shape(Temps)[0]\n",
    "    # convert demps to EDTs\n",
    "    exper = lambda t: np.exp(-Ea / (R * (t + 273.15)))\n",
    "    exps = np.array([exper(Tempsi) for Tempsi in Temps])\n",
    "    EDTs = [(-Ea / R / np.log(np.mean(exps[i,:]))) for i in range(nz)]\n",
    "    # determing depth mean T   \n",
    "    DepthMeanTs = [(np.mean(Temps[i,:]) + 273.15) for i in range(nz)]\n",
    "    # calculate diffusivity for the EDTs\n",
    "    Diff_z = diff_calc(EDTs)\n",
    "    #assign outputs to dictionary\n",
    "    HeliumPars['EDTs'] = EDTs\n",
    "    HeliumPars['Diff_z'] = Diff_z\n",
    "    HeliumPars['DepthMeanTs'] = DepthMeanTs\n",
    "    \n",
    "    return HeliumPars"
   ]
  }
 ],
 "metadata": {
  "kernelspec": {
   "display_name": "Python 3",
   "language": "python",
   "name": "python3"
  },
  "language_info": {
   "codemirror_mode": {
    "name": "ipython",
    "version": 3
   },
   "file_extension": ".py",
   "mimetype": "text/x-python",
   "name": "python",
   "nbconvert_exporter": "python",
   "pygments_lexer": "ipython3",
   "version": "3.9.5"
  }
 },
 "nbformat": 4,
 "nbformat_minor": 5
}
