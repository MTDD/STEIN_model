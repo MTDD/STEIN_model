{
 "cells": [
  {
   "cell_type": "markdown",
   "id": "17f8696c",
   "metadata": {},
   "source": [
    "## Run Constant Erosion Simulations\n",
    "<br>\n",
    "  \n",
    "#### Syntax\n",
    "`CalcPars, RunPars, CosmoPars, HeliumPars = RunSimulationsConstant(InputPars)` <br>\n",
    "#### Input \n",
    "`InputPars` : dictionary containing the following input parameters: <br>\n",
    "    - Total Time : total time to run the model || (yrs) || int <br>\n",
    "    - Erosion Rate : the given (input) erosion rate; constant erosion will be exactly this value || (cm yr-1) || float <br>\n",
    "    - c : Pareto distribution shape value; should be 1 > x > 0 || || float <br>\n",
    "    - MAT : mean annual temperature || (deg C) || float <br>\n",
    "    - T_AMP : seasonal temperature amplitude || (deg C) || float <br>\n",
    "#### Output\n",
    "`CalcPars` : dictionary of calculated concentrations and values for \"samples\" <br>\n",
    "`RunPars` : dictionary of parameters relevant for the entire model run <br>\n",
    "`CosmoPars` : dictionary of parameters relevant for CRN calculatiosn <br>\n",
    "`HeliumPars` : dictionary containing parameters relevant for He3 calcualtions\n",
    "#### Notes\n",
    "**Date of Creation:** 7. Juli 2021 <br>\n",
    "**Author:** Donovan Dennis <br>\n",
    "**Updates:** <br>\n",
    "30.07.21 : Added units and variable types to function description.<br>\n",
    "23.09.21 : Changed calc pars from crnLoopFunction to crnLoopFunctionmtest in order to get complete\n",
    "muon production. <br>"
   ]
  },
  {
   "cell_type": "code",
   "execution_count": 1,
   "id": "87def3f5",
   "metadata": {},
   "outputs": [],
   "source": [
    "def RunSimulationsConstant(InputPars):\n",
    "    CalcPars = {}\n",
    "    MeasPars = {}\n",
    "    TruePars = {}\n",
    "\n",
    "    RunPars, CosmoPars, HeliumPars = SetParams(InputPars)\n",
    "    RunPars = ConstantERGenerator(RunPars)\n",
    "    RunPars['Scenarios'] = 1\n",
    "    RunPars['TrueErosionRates'] = RunPars['erosion_rate']\n",
    "   \n",
    "    CosmoPars['CRNz'] = np.arange(0,RunPars['max_depths'][1],dz)\n",
    "    CosmoPars['CRNnz'] = int(RunPars['max_depths'][1] / dz)\n",
    "\n",
    "    HeliumPars['Hez'] = np.arange(0,RunPars['max_depths'][0],dz)\n",
    "    HeliumPars['nz'] = int((RunPars['max_depths'][0]) / dz)\n",
    "    HeliumPars['T0'] = np.array([InputPars['MAT']] * HeliumPars['thermnz'])\n",
    "    HeliumPars['thermdz'] = (RunPars['max_depths'][0]) / (HeliumPars['thermnz'] - 1)\n",
    "    \n",
    "    CalcPars = crnLoopFunctionmtest(RunPars, CosmoPars, CalcPars)\n",
    "    CalcPars = HeLoopFxn(RunPars, CosmoPars, HeliumPars, CalcPars)\n",
    "    CalcPars = CNSamplingFxn(RunPars,CosmoPars,HeliumPars,CalcPars)\n",
    "    \n",
    "    return CalcPars, RunPars, CosmoPars, HeliumPars"
   ]
  }
 ],
 "metadata": {
  "kernelspec": {
   "display_name": "Python 3",
   "language": "python",
   "name": "python3"
  },
  "language_info": {
   "codemirror_mode": {
    "name": "ipython",
    "version": 3
   },
   "file_extension": ".py",
   "mimetype": "text/x-python",
   "name": "python",
   "nbconvert_exporter": "python",
   "pygments_lexer": "ipython3",
   "version": "3.9.5"
  }
 },
 "nbformat": 4,
 "nbformat_minor": 5
}
